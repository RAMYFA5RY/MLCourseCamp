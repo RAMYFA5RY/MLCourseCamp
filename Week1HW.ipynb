{
 "cells": [
  {
   "cell_type": "code",
   "execution_count": 77,
   "metadata": {},
   "outputs": [
    {
     "name": "stdout",
     "output_type": "stream",
     "text": [
      "numpy version:  1.20.1\n",
      "pandas version:  1.3.5\n"
     ]
    }
   ],
   "source": [
    "import numpy as np\n",
    "import pandas as pd\n",
    "np.__version__\n",
    "print(\"numpy version: \", np.__version__)\n",
    "print(\"pandas version: \", pd.__version__)"
   ]
  },
  {
   "cell_type": "code",
   "execution_count": 78,
   "metadata": {},
   "outputs": [
    {
     "data": {
      "text/plain": [
       "11914"
      ]
     },
     "execution_count": 78,
     "metadata": {},
     "output_type": "execute_result"
    }
   ],
   "source": [
    "CarData = pd.read_csv(\"C:\\\\Users\\\\engra\\Desktop\\\\ML CourseCamp\\\\1- Week 1\\\\Data\\\\Data.csv\")\n",
    "CarData.head()\n",
    "CarData.describe()\n",
    "len(CarData.index)"
   ]
  },
  {
   "cell_type": "code",
   "execution_count": 79,
   "metadata": {},
   "outputs": [
    {
     "data": {
      "text/plain": [
       "<AxesSubplot:>"
      ]
     },
     "execution_count": 79,
     "metadata": {},
     "output_type": "execute_result"
    },
    {
     "data": {
      "image/png": "[encoded data removed]",
      "text/plain": [
       "<Figure size 432x288 with 1 Axes>"
      ]
     },
     "metadata": {
      "needs_background": "light"
     },
     "output_type": "display_data"
    }
   ],
   "source": [
    "CarData.head()\n",
    "CarData['Make'].value_counts().plot(kind='bar')"
   ]
  },
  {
   "cell_type": "code",
   "execution_count": 80,
   "metadata": {},
   "outputs": [
    {
     "data": {
      "text/html": [
       "<div>\n",
       "<style scoped>\n",
       "    .dataframe tbody tr th:only-of-type {\n",
       "        vertical-align: middle;\n",
       "    }\n",
       "\n",
       "    .dataframe tbody tr th {\n",
       "        vertical-align: top;\n",
       "    }\n",
       "\n",
       "    .dataframe thead th {\n",
       "        text-align: right;\n",
       "    }\n",
       "</style>\n",
       "<table border=\"1\" class=\"dataframe\">\n",
       "  <thead>\n",
       "    <tr style=\"text-align: right;\">\n",
       "      <th></th>\n",
       "      <th>Make</th>\n",
       "      <th>Model</th>\n",
       "      <th>Year</th>\n",
       "      <th>Engine Fuel Type</th>\n",
       "      <th>Engine HP</th>\n",
       "      <th>Engine Cylinders</th>\n",
       "      <th>Transmission Type</th>\n",
       "      <th>Driven_Wheels</th>\n",
       "      <th>Number of Doors</th>\n",
       "      <th>Market Category</th>\n",
       "      <th>Vehicle Size</th>\n",
       "      <th>Vehicle Style</th>\n",
       "      <th>highway MPG</th>\n",
       "      <th>city mpg</th>\n",
       "      <th>Popularity</th>\n",
       "      <th>MSRP</th>\n",
       "    </tr>\n",
       "  </thead>\n",
       "  <tbody>\n",
       "    <tr>\n",
       "      <th>17</th>\n",
       "      <td>Audi</td>\n",
       "      <td>100</td>\n",
       "      <td>1992</td>\n",
       "      <td>regular unleaded</td>\n",
       "      <td>172.0</td>\n",
       "      <td>6.0</td>\n",
       "      <td>MANUAL</td>\n",
       "      <td>front wheel drive</td>\n",
       "      <td>4.0</td>\n",
       "      <td>Luxury</td>\n",
       "      <td>Midsize</td>\n",
       "      <td>Sedan</td>\n",
       "      <td>24</td>\n",
       "      <td>17</td>\n",
       "      <td>3105</td>\n",
       "      <td>2000</td>\n",
       "    </tr>\n",
       "    <tr>\n",
       "      <th>18</th>\n",
       "      <td>Audi</td>\n",
       "      <td>100</td>\n",
       "      <td>1992</td>\n",
       "      <td>regular unleaded</td>\n",
       "      <td>172.0</td>\n",
       "      <td>6.0</td>\n",
       "      <td>MANUAL</td>\n",
       "      <td>front wheel drive</td>\n",
       "      <td>4.0</td>\n",
       "      <td>Luxury</td>\n",
       "      <td>Midsize</td>\n",
       "      <td>Sedan</td>\n",
       "      <td>24</td>\n",
       "      <td>17</td>\n",
       "      <td>3105</td>\n",
       "      <td>2000</td>\n",
       "    </tr>\n",
       "    <tr>\n",
       "      <th>19</th>\n",
       "      <td>Audi</td>\n",
       "      <td>100</td>\n",
       "      <td>1992</td>\n",
       "      <td>regular unleaded</td>\n",
       "      <td>172.0</td>\n",
       "      <td>6.0</td>\n",
       "      <td>AUTOMATIC</td>\n",
       "      <td>all wheel drive</td>\n",
       "      <td>4.0</td>\n",
       "      <td>Luxury</td>\n",
       "      <td>Midsize</td>\n",
       "      <td>Wagon</td>\n",
       "      <td>20</td>\n",
       "      <td>16</td>\n",
       "      <td>3105</td>\n",
       "      <td>2000</td>\n",
       "    </tr>\n",
       "    <tr>\n",
       "      <th>20</th>\n",
       "      <td>Audi</td>\n",
       "      <td>100</td>\n",
       "      <td>1992</td>\n",
       "      <td>regular unleaded</td>\n",
       "      <td>172.0</td>\n",
       "      <td>6.0</td>\n",
       "      <td>MANUAL</td>\n",
       "      <td>front wheel drive</td>\n",
       "      <td>4.0</td>\n",
       "      <td>Luxury</td>\n",
       "      <td>Midsize</td>\n",
       "      <td>Sedan</td>\n",
       "      <td>24</td>\n",
       "      <td>17</td>\n",
       "      <td>3105</td>\n",
       "      <td>2000</td>\n",
       "    </tr>\n",
       "    <tr>\n",
       "      <th>21</th>\n",
       "      <td>Audi</td>\n",
       "      <td>100</td>\n",
       "      <td>1992</td>\n",
       "      <td>regular unleaded</td>\n",
       "      <td>172.0</td>\n",
       "      <td>6.0</td>\n",
       "      <td>MANUAL</td>\n",
       "      <td>all wheel drive</td>\n",
       "      <td>4.0</td>\n",
       "      <td>Luxury</td>\n",
       "      <td>Midsize</td>\n",
       "      <td>Sedan</td>\n",
       "      <td>21</td>\n",
       "      <td>16</td>\n",
       "      <td>3105</td>\n",
       "      <td>2000</td>\n",
       "    </tr>\n",
       "  </tbody>\n",
       "</table>\n",
       "</div>"
      ],
      "text/plain": [
       "    Make Model  Year  Engine Fuel Type  Engine HP  Engine Cylinders  \\\n",
       "17  Audi   100  1992  regular unleaded      172.0               6.0   \n",
       "18  Audi   100  1992  regular unleaded      172.0               6.0   \n",
       "19  Audi   100  1992  regular unleaded      172.0               6.0   \n",
       "20  Audi   100  1992  regular unleaded      172.0               6.0   \n",
       "21  Audi   100  1992  regular unleaded      172.0               6.0   \n",
       "\n",
       "   Transmission Type      Driven_Wheels  Number of Doors Market Category  \\\n",
       "17            MANUAL  front wheel drive              4.0          Luxury   \n",
       "18            MANUAL  front wheel drive              4.0          Luxury   \n",
       "19         AUTOMATIC    all wheel drive              4.0          Luxury   \n",
       "20            MANUAL  front wheel drive              4.0          Luxury   \n",
       "21            MANUAL    all wheel drive              4.0          Luxury   \n",
       "\n",
       "   Vehicle Size Vehicle Style  highway MPG  city mpg  Popularity  MSRP  \n",
       "17      Midsize         Sedan           24        17        3105  2000  \n",
       "18      Midsize         Sedan           24        17        3105  2000  \n",
       "19      Midsize         Wagon           20        16        3105  2000  \n",
       "20      Midsize         Sedan           24        17        3105  2000  \n",
       "21      Midsize         Sedan           21        16        3105  2000  "
      ]
     },
     "execution_count": 80,
     "metadata": {},
     "output_type": "execute_result"
    }
   ],
   "source": [
    "AudiCarDF=CarData[CarData[\"Make\"] =='Audi']\n",
    "AudiCarDF.head()"
   ]
  },
  {
   "cell_type": "code",
   "execution_count": 81,
   "metadata": {},
   "outputs": [
    {
     "name": "stdout",
     "output_type": "stream",
     "text": [
      "Make                   1\n",
      "Model                 34\n",
      "Year                  20\n",
      "Engine Fuel Type       5\n",
      "Engine HP             40\n",
      "Engine Cylinders       6\n",
      "Transmission Type      3\n",
      "Driven_Wheels          2\n",
      "Number of Doors        2\n",
      "Market Category       15\n",
      "Vehicle Size           3\n",
      "Vehicle Style          6\n",
      "highway MPG           23\n",
      "city mpg              18\n",
      "Popularity             1\n",
      "MSRP                 234\n",
      "dtype: int64\n"
     ]
    }
   ],
   "source": [
    "print(AudiCarDF.nunique())"
   ]
  },
  {
   "cell_type": "code",
   "execution_count": 82,
   "metadata": {},
   "outputs": [
    {
     "data": {
      "text/plain": [
       "Make                    0\n",
       "Model                   0\n",
       "Year                    0\n",
       "Engine Fuel Type        3\n",
       "Engine HP              69\n",
       "Engine Cylinders       30\n",
       "Transmission Type       0\n",
       "Driven_Wheels           0\n",
       "Number of Doors         6\n",
       "Market Category      3742\n",
       "Vehicle Size            0\n",
       "Vehicle Style           0\n",
       "highway MPG             0\n",
       "city mpg                0\n",
       "Popularity              0\n",
       "MSRP                    0\n",
       "dtype: int64"
      ]
     },
     "execution_count": 82,
     "metadata": {},
     "output_type": "execute_result"
    }
   ],
   "source": [
    "CarData.isna().sum()"
   ]
  },
  {
   "cell_type": "code",
   "execution_count": 83,
   "metadata": {},
   "outputs": [
    {
     "name": "stdout",
     "output_type": "stream",
     "text": [
      "6.0\n",
      "0    4.0\n",
      "dtype: float64\n",
      "4.0     4752\n",
      "6.0     4489\n",
      "8.0     2031\n",
      "12.0     230\n",
      "5.0      225\n",
      "10.0      68\n",
      "0.0       56\n",
      "3.0       30\n",
      "16.0       3\n",
      "Name: Engine Cylinders, dtype: int64\n"
     ]
    },
    {
     "data": {
      "text/plain": [
       "<AxesSubplot:ylabel='Frequency'>"
      ]
     },
     "execution_count": 83,
     "metadata": {},
     "output_type": "execute_result"
    },
    {
     "data": {
      "image/png": "[encoded data removed]",
      "text/plain": [
       "<Figure size 432x288 with 1 Axes>"
      ]
     },
     "metadata": {
      "needs_background": "light"
     },
     "output_type": "display_data"
    }
   ],
   "source": [
    "print(CarData[\"Engine Cylinders\"].median())\n",
    "print(CarData[\"Engine Cylinders\"].mode())\n",
    "print(CarData[\"Engine Cylinders\"].value_counts())\n",
    "CarData[\"Engine Cylinders\"].plot.hist()"
   ]
  },
  {
   "cell_type": "code",
   "execution_count": 84,
   "metadata": {},
   "outputs": [
    {
     "data": {
      "text/plain": [
       "6.0"
      ]
     },
     "execution_count": 84,
     "metadata": {},
     "output_type": "execute_result"
    }
   ],
   "source": [
    "CarDataMod=CarData[\"Engine Cylinders\"].fillna(value=4)\n",
    "CarDataMod.median()"
   ]
  },
  {
   "cell_type": "code",
   "execution_count": 85,
   "metadata": {},
   "outputs": [
    {
     "name": "stdout",
     "output_type": "stream",
     "text": [
      "       Make  Engine HP  Engine Cylinders\n",
      "3912  Lotus      189.0               4.0\n",
      "3913  Lotus      218.0               4.0\n",
      "3918  Lotus      217.0               4.0\n",
      "4216  Lotus      350.0               8.0\n",
      "4257  Lotus      400.0               6.0\n",
      "4259  Lotus      276.0               6.0\n",
      "4262  Lotus      345.0               6.0\n",
      "4292  Lotus      257.0               4.0\n",
      "4293  Lotus      240.0               4.0\n"
     ]
    }
   ],
   "source": [
    "LotusCarsData=CarData.iloc[ :, [0,4,5] ]\n",
    "LotusCarsData=LotusCarsData[LotusCarsData[\"Make\"]=='Lotus']\n",
    "LotusCarsData.head()\n",
    "LotusCarsData=LotusCarsData.drop_duplicates()\n",
    "len(LotusCarsData)\n",
    "print(LotusCarsData)\n"
   ]
  },
  {
   "cell_type": "code",
   "execution_count": 89,
   "metadata": {},
   "outputs": [
    {
     "name": "stdout",
     "output_type": "stream",
     "text": [
      "[[189.   4.]\n",
      " [218.   4.]\n",
      " [217.   4.]\n",
      " [350.   8.]\n",
      " [400.   6.]\n",
      " [276.   6.]\n",
      " [345.   6.]\n",
      " [257.   4.]\n",
      " [240.   4.]]\n",
      "[[189. 218. 217. 350. 400. 276. 345. 257. 240.]\n",
      " [  4.   4.   4.   8.   6.   6.   6.   4.   4.]]\n",
      "[[7.31684e+05 1.34100e+04]\n",
      " [1.34100e+04 2.52000e+02]]\n",
      "[[7.31684e+05 1.34100e+04]\n",
      " [1.34100e+04 2.52000e+02]]\n",
      "[  4.59494481 -63.56432501]\n"
     ]
    }
   ],
   "source": [
    "X=LotusCarsData[[\"Engine HP\",\"Engine Cylinders\"]].to_numpy()\n",
    "print(X)\n",
    "XT=X.transpose()\n",
    "print(XT)\n",
    "XTX=XT.dot(X)\n",
    "print(XTX)\n",
    "XTXInverse=np.linalg.inv(XTX)\n",
    "print(XTX)\n",
    "y=np.array([1100, 800, 750, 850, 1300, 1000, 1000, 1300, 800])\n",
    "w=XTXInverse.dot(XT).dot(y)\n",
    "print(w)"
   ]
  }
 ],
 "metadata": {
  "kernelspec": {
   "display_name": "Python 3.9.11",
   "language": "python",
   "name": "python3"
  },
  "language_info": {
   "codemirror_mode": {
    "name": "ipython",
    "version": 3
   },
   "file_extension": ".py",
   "mimetype": "text/x-python",
   "name": "python",
   "nbconvert_exporter": "python",
   "pygments_lexer": "ipython3",
   "version": "3.9.11"
  },
  "orig_nbformat": 4,
  "vscode": {
   "interpreter": {
    "hash": "9f65261c2b355b849f2c3b89f0461b6e0a778de5463b5e964d51b696c955b2b8"
   }
  }
 },
 "nbformat": 4,
 "nbformat_minor": 2
}
